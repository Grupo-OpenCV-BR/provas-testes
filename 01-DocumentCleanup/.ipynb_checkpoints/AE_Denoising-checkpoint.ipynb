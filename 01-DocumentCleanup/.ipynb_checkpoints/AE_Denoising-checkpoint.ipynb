{
 "cells": [
  {
   "cell_type": "code",
   "execution_count": 138,
   "metadata": {},
   "outputs": [],
   "source": [
    "from tensorflow.keras.layers import BatchNormalization\n",
    "from tensorflow.keras.layers import Conv2D\n",
    "from tensorflow.keras.layers import Conv2DTranspose\n",
    "from tensorflow.keras.layers import LeakyReLU\n",
    "from tensorflow.keras.layers import Activation\n",
    "from tensorflow.keras.layers import Flatten\n",
    "from tensorflow.keras.layers import Dense\n",
    "from tensorflow.keras.layers import Reshape\n",
    "from tensorflow.keras.layers import Input\n",
    "from tensorflow.keras.models import Model\n",
    "from tensorflow.keras import backend as K\n",
    "from tensorflow.keras.optimizers import Adam\n",
    "import imutils\n",
    "import numpy as np\n",
    "import glob\n",
    "import cv2\n",
    "\n",
    "def build(width, height, depth, filters=(32, 64), latentDim=16):\n",
    "    inputShape = (height, width, depth)\n",
    "    chanDim = -1\n",
    "    inputs = Input(shape=inputShape)\n",
    "    x = inputs\n",
    "    for f in filters:\n",
    "        x = Conv2D(f, (3, 3), strides=2, padding=\"same\")(x)\n",
    "        x = LeakyReLU(alpha=0.2)(x)\n",
    "        x = BatchNormalization(axis=chanDim)(x)\n",
    "    volumeSize = K.int_shape(x)\n",
    "    x = Flatten()(x)\n",
    "    latent = Dense(latentDim)(x)\n",
    "    encoder = Model(inputs, latent, name=\"encoder\")\n",
    "    print(encoder.summary())\n",
    "    latentInputs = Input(shape=(latentDim,))\n",
    "    x = Dense(np.prod(volumeSize[1:]))(latentInputs)\n",
    "    x = Reshape((volumeSize[1], volumeSize[2], volumeSize[3]))(x)\n",
    "    for f in filters[::-1]:\n",
    "        x = Conv2DTranspose(f, (3, 3), strides=2,\n",
    "            padding=\"same\")(x)\n",
    "        x = LeakyReLU(alpha=0.2)(x)\n",
    "        x = BatchNormalization(axis=chanDim)(x)\n",
    "    x = Conv2DTranspose(depth, (3, 3), padding=\"same\")(x)\n",
    "    outputs = Activation(\"sigmoid\")(x)\n",
    "    decoder = Model(latentInputs, outputs, name=\"decoder\")\n",
    "    print(decoder.summary())\n",
    "    autoencoder = Model(inputs, decoder(encoder(inputs)),\n",
    "        name=\"autoencoder\")\n",
    "    return (encoder, decoder, autoencoder)"
   ]
  },
  {
   "cell_type": "code",
   "execution_count": 176,
   "metadata": {},
   "outputs": [],
   "source": [
    "EPOCHS = 40\n",
    "BS = 8"
   ]
  },
  {
   "cell_type": "code",
   "execution_count": 140,
   "metadata": {},
   "outputs": [],
   "source": [
    "cleaned = glob.glob(\"./best_clean/*.png\")"
   ]
  },
  {
   "cell_type": "code",
   "execution_count": 141,
   "metadata": {},
   "outputs": [],
   "source": [
    "noised = glob.glob(\"./best_noised/*.png\")"
   ]
  },
  {
   "cell_type": "code",
   "execution_count": 144,
   "metadata": {},
   "outputs": [],
   "source": [
    "def load_data(files):\n",
    "    X = []\n",
    "    for file in files:\n",
    "        im = cv2.imread(file,0)\n",
    "        im = cv2.resize(im, (400, 400),interpolation = cv2.INTER_CUBIC)\n",
    "        im = im.astype(np.float32)\n",
    "        im = im / 255\n",
    "        X.append(im)\n",
    "    X = np.array(X)\n",
    "    print(X.shape)\n",
    "    train_x = X.reshape(X.shape[0], 400, 400, 1)\n",
    "    return train_x"
   ]
  },
  {
   "cell_type": "code",
   "execution_count": 145,
   "metadata": {},
   "outputs": [
    {
     "name": "stdout",
     "output_type": "stream",
     "text": [
      "(36, 400, 400)\n"
     ]
    }
   ],
   "source": [
    "trainX_T = load_data(cleaned)"
   ]
  },
  {
   "cell_type": "code",
   "execution_count": 146,
   "metadata": {},
   "outputs": [
    {
     "name": "stdout",
     "output_type": "stream",
     "text": [
      "(36, 400, 400)\n"
     ]
    }
   ],
   "source": [
    "trainXNoised_T = load_data(noised)"
   ]
  },
  {
   "cell_type": "code",
   "execution_count": 156,
   "metadata": {},
   "outputs": [
    {
     "name": "stdout",
     "output_type": "stream",
     "text": [
      "25\n"
     ]
    }
   ],
   "source": [
    "split = int(len(trainX_T)*0.7)\n",
    "print(split)"
   ]
  },
  {
   "cell_type": "code",
   "execution_count": 169,
   "metadata": {},
   "outputs": [
    {
     "name": "stdout",
     "output_type": "stream",
     "text": [
      "(25, 400, 400, 1)\n",
      "(11, 400, 400, 1)\n"
     ]
    }
   ],
   "source": [
    "trainX = trainX_T[:split, :, :]\n",
    "testX = trainX_T[split:, :, :]\n",
    "print(trainX.shape)\n",
    "print(testX.shape)"
   ]
  },
  {
   "cell_type": "code",
   "execution_count": 171,
   "metadata": {},
   "outputs": [
    {
     "name": "stdout",
     "output_type": "stream",
     "text": [
      "(25, 400, 400, 1)\n",
      "(11, 400, 400, 1)\n"
     ]
    }
   ],
   "source": [
    "trainNoise = trainXNoised_T[:split, :, :]\n",
    "testNoise = trainXNoised_T[split:, :, :]\n",
    "print(trainNoise.shape)\n",
    "print(testNoise.shape)"
   ]
  },
  {
   "cell_type": "code",
   "execution_count": 172,
   "metadata": {},
   "outputs": [],
   "source": [
    "trainNoiseX = np.random.normal(loc=0.5, scale=0.5, size=trainX.shape)\n",
    "testNoiseX = np.random.normal(loc=0.5, scale=0.5, size=testX.shape)\n",
    "trainNoise = np.clip(trainNoise + trainNoiseX, 0, 1)\n",
    "testNoise = np.clip(testNoise + testNoiseX, 0, 1)"
   ]
  },
  {
   "cell_type": "code",
   "execution_count": 173,
   "metadata": {},
   "outputs": [],
   "source": [
    "encoder, decoder, autoencoder = build(400, 400, 1)"
   ]
  },
  {
   "cell_type": "code",
   "execution_count": 177,
   "metadata": {},
   "outputs": [],
   "source": [
    "opt = Adam(lr=1e-3)\n",
    "autoencoder.compile(loss=\"mse\", optimizer=opt)"
   ]
  },
  {
   "cell_type": "code",
   "execution_count": null,
   "metadata": {},
   "outputs": [
    {
     "name": "stdout",
     "output_type": "stream",
     "text": [
      "Epoch 1/40\n",
      "4/4 [==============================] - 12s 3s/step - loss: 0.2793 - val_loss: 0.2256\n",
      "Epoch 2/40\n",
      "4/4 [==============================] - 9s 2s/step - loss: 0.2389 - val_loss: 0.2173\n",
      "Epoch 3/40\n",
      "4/4 [==============================] - 9s 2s/step - loss: 0.2189 - val_loss: 0.2118\n",
      "Epoch 4/40\n",
      "4/4 [==============================] - 12s 3s/step - loss: 0.2015 - val_loss: 0.2057\n",
      "Epoch 5/40\n",
      "4/4 [==============================] - 14s 3s/step - loss: 0.1868 - val_loss: 0.1940\n",
      "Epoch 6/40\n",
      "4/4 [==============================] - 15s 4s/step - loss: 0.1742 - val_loss: 0.1808\n",
      "Epoch 7/40\n",
      "4/4 [==============================] - 14s 4s/step - loss: 0.1602 - val_loss: 0.1686\n",
      "Epoch 8/40\n",
      "4/4 [==============================] - 14s 3s/step - loss: 0.1425 - val_loss: 0.1516\n",
      "Epoch 9/40\n",
      "4/4 [==============================] - 14s 3s/step - loss: 0.1287 - val_loss: 0.1395\n",
      "Epoch 10/40\n",
      "4/4 [==============================] - 13s 3s/step - loss: 0.1154 - val_loss: 0.1275\n",
      "Epoch 11/40\n",
      "4/4 [==============================] - 12s 3s/step - loss: 0.1068 - val_loss: 0.1176\n",
      "Epoch 12/40\n",
      "4/4 [==============================] - 11s 3s/step - loss: 0.1008 - val_loss: 0.1092\n",
      "Epoch 13/40\n",
      "4/4 [==============================] - 14s 4s/step - loss: 0.0926 - val_loss: 0.1013\n",
      "Epoch 14/40\n",
      "4/4 [==============================] - 13s 3s/step - loss: 0.0870 - val_loss: 0.0978\n",
      "Epoch 15/40\n",
      "4/4 [==============================] - 12s 3s/step - loss: 0.0821 - val_loss: 0.0920\n",
      "Epoch 16/40\n",
      "4/4 [==============================] - 14s 3s/step - loss: 0.0787 - val_loss: 0.0899\n",
      "Epoch 17/40\n",
      "4/4 [==============================] - 14s 4s/step - loss: 0.0766 - val_loss: 0.0868\n",
      "Epoch 18/40\n",
      "4/4 [==============================] - 14s 3s/step - loss: 0.0720 - val_loss: 0.0845\n",
      "Epoch 19/40\n",
      "2/4 [==============>...............] - ETA: 5s - loss: 0.0699"
     ]
    }
   ],
   "source": [
    "H = autoencoder.fit(\n",
    "    trainNoise, trainX,\n",
    "    validation_data=(testNoise, testX),\n",
    "    epochs=EPOCHS,\n",
    "    batch_size=8)"
   ]
  },
  {
   "cell_type": "code",
   "execution_count": 164,
   "metadata": {},
   "outputs": [],
   "source": [
    "import matplotlib.pyplot as plt\n",
    "%matplotlib inline"
   ]
  },
  {
   "cell_type": "code",
   "execution_count": 165,
   "metadata": {},
   "outputs": [
    {
     "data": {
      "text/plain": [
       "<matplotlib.legend.Legend at 0x27284b54e88>"
      ]
     },
     "execution_count": 165,
     "metadata": {},
     "output_type": "execute_result"
    },
    {
     "data": {
      "image/png": "[encoded data removed]",
      "text/plain": [
       "<Figure size 432x288 with 1 Axes>"
      ]
     },
     "metadata": {},
     "output_type": "display_data"
    }
   ],
   "source": [
    "N = np.arange(0, EPOCHS)\n",
    "plt.style.use(\"ggplot\")\n",
    "plt.figure()\n",
    "plt.plot(N, H.history[\"loss\"], label=\"train_loss\")\n",
    "plt.plot(N, H.history[\"val_loss\"], label=\"val_loss\")\n",
    "plt.title(\"Training Loss and Accuracy\")\n",
    "plt.xlabel(\"Epoch #\")\n",
    "plt.ylabel(\"Loss/Accuracy\")\n",
    "plt.legend(loc=\"lower left\")"
   ]
  },
  {
   "cell_type": "code",
   "execution_count": 166,
   "metadata": {},
   "outputs": [],
   "source": [
    "decoded = autoencoder.predict(testXNoisy)"
   ]
  },
  {
   "cell_type": "code",
   "execution_count": 168,
   "metadata": {},
   "outputs": [],
   "source": [
    "for i in range(0, len(decoded)):\n",
    "    original = (testXNoisy[i] * 255).astype(\"uint8\")\n",
    "    recon = (decoded[i] * 255).astype(\"uint8\")\n",
    "\n",
    "    # stack the original and reconstructed image side-by-side\n",
    "    output = np.hstack([original, recon])\n",
    "    cv2.imwrite(\"./decoded/\"+str(i)+\".png\", output)"
   ]
  },
  {
   "cell_type": "code",
   "execution_count": 133,
   "metadata": {},
   "outputs": [
    {
     "name": "stdout",
     "output_type": "stream",
     "text": [
      "./best_clean\\102.png\n",
      "./best_clean\\105.png\n",
      "./best_clean\\113.png\n",
      "./best_clean\\114.png\n",
      "./best_clean\\117.png\n",
      "./best_clean\\125.png\n",
      "./best_clean\\126.png\n",
      "./best_clean\\138.png\n",
      "./best_clean\\141.png\n",
      "./best_clean\\149.png\n",
      "./best_clean\\161.png\n",
      "./best_clean\\162.png\n",
      "./best_clean\\173.png\n",
      "./best_clean\\185.png\n",
      "./best_clean\\186.png\n",
      "./best_clean\\201.png\n",
      "./best_clean\\209.png\n",
      "./best_clean\\213.png\n",
      "./best_clean\\29.png\n",
      "./best_clean\\30.png\n",
      "./best_clean\\41.png\n",
      "./best_clean\\42.png\n",
      "./best_clean\\45.png\n",
      "./best_clean\\53.png\n",
      "./best_clean\\54.png\n",
      "./best_clean\\65.png\n",
      "./best_clean\\66.png\n",
      "./best_clean\\77.png\n",
      "./best_clean\\78.png\n",
      "./best_clean\\89.png\n",
      "./best_clean\\90.png\n",
      "./best_clean\\93.png\n"
     ]
    }
   ],
   "source": [
    "cleaned.sort()\n",
    "for i in cleaned:\n",
    "    print(i)"
   ]
  },
  {
   "cell_type": "code",
   "execution_count": 136,
   "metadata": {},
   "outputs": [],
   "source": [
    "import shutil\n",
    "import os"
   ]
  },
  {
   "cell_type": "code",
   "execution_count": 137,
   "metadata": {},
   "outputs": [],
   "source": [
    "for i in cleaned:\n",
    "    name = os.path.basename(i)\n",
    "    out = \"./best_noised/\"\n",
    "    inp = \"./noisy_data/\"\n",
    "    shutil.copy(os.path.join(inp, name), os.path.join(out, name))"
   ]
  },
  {
   "cell_type": "code",
   "execution_count": null,
   "metadata": {},
   "outputs": [],
   "source": []
  }
 ],
 "metadata": {
  "kernelspec": {
   "display_name": "Python 3",
   "language": "python",
   "name": "python3"
  },
  "language_info": {
   "codemirror_mode": {
    "name": "ipython",
    "version": 3
   },
   "file_extension": ".py",
   "mimetype": "text/x-python",
   "name": "python",
   "nbconvert_exporter": "python",
   "pygments_lexer": "ipython3",
   "version": "3.7.4"
  }
 },
 "nbformat": 4,
 "nbformat_minor": 4
}

{
  "nbformat": 4,
  "nbformat_minor": 0,
  "metadata": {
    "colab": {
      "name": "autoencoder.ipynb",
      "provenance": [],
      "collapsed_sections": []
    },
    "kernelspec": {
      "name": "python3",
      "display_name": "Python 3"
    },
    "accelerator": "GPU"
  },
  "cells": [
    {
      "cell_type": "code",
      "metadata": {
        "colab": {
          "base_uri": "https://localhost:8080/"
        },
        "id": "C1wZ1u_mBkCV",
        "outputId": "825a90a6-1b9d-404e-9112-5ffc7e956247"
      },
      "source": [
        "!nvidia-smi"
      ],
      "execution_count": 1,
      "outputs": [
        {
          "output_type": "stream",
          "text": [
            "Mon Jan 18 22:27:08 2021       \n",
            "+-----------------------------------------------------------------------------+\n",
            "| NVIDIA-SMI 460.27.04    Driver Version: 418.67       CUDA Version: 10.1     |\n",
            "|-------------------------------+----------------------+----------------------+\n",
            "| GPU  Name        Persistence-M| Bus-Id        Disp.A | Volatile Uncorr. ECC |\n",
            "| Fan  Temp  Perf  Pwr:Usage/Cap|         Memory-Usage | GPU-Util  Compute M. |\n",
            "|                               |                      |               MIG M. |\n",
            "|===============================+======================+======================|\n",
            "|   0  Tesla T4            Off  | 00000000:00:04.0 Off |                    0 |\n",
            "| N/A   42C    P8    10W /  70W |      0MiB / 15079MiB |      0%      Default |\n",
            "|                               |                      |                 ERR! |\n",
            "+-------------------------------+----------------------+----------------------+\n",
            "                                                                               \n",
            "+-----------------------------------------------------------------------------+\n",
            "| Processes:                                                                  |\n",
            "|  GPU   GI   CI        PID   Type   Process name                  GPU Memory |\n",
            "|        ID   ID                                                   Usage      |\n",
            "|=============================================================================|\n",
            "|  No running processes found                                                 |\n",
            "+-----------------------------------------------------------------------------+\n"
          ],
          "name": "stdout"
        }
      ]
    },
    {
      "cell_type": "code",
      "metadata": {
        "id": "skuqyKyom98n"
      },
      "source": [
        "import tensorflow as tf\r\n",
        "from tensorflow.keras.models import Model\r\n",
        "from tensorflow.keras import layers, callbacks, utils\r\n",
        "import cv2\r\n",
        "from google.colab.patches import cv2_imshow\r\n",
        "import numpy as np\r\n",
        "import glob\r\n",
        "import os"
      ],
      "execution_count": 8,
      "outputs": []
    },
    {
      "cell_type": "code",
      "metadata": {
        "id": "jTVAxVtToj7N"
      },
      "source": [
        "!cp -r /content/drive/MyDrive/cleaned_data/ /content/\r\n",
        "!cp -r /content/drive/MyDrive/noisy_data/ /content/"
      ],
      "execution_count": 12,
      "outputs": []
    },
    {
      "cell_type": "code",
      "metadata": {
        "id": "PEtjmokp0uso",
        "colab": {
          "base_uri": "https://localhost:8080/"
        },
        "outputId": "f5d716b0-dcdb-47b2-d39d-f5d52bcd6ba9"
      },
      "source": [
        "cleaned = glob.glob(\"/content/cleaned_data/*.png\")\r\n",
        "noised = glob.glob(\"/content/noisy_data/*.png\")\r\n",
        "print(len(cleaned))\r\n",
        "print(len(noised))"
      ],
      "execution_count": 14,
      "outputs": [
        {
          "output_type": "stream",
          "text": [
            "144\n",
            "144\n"
          ],
          "name": "stdout"
        }
      ]
    },
    {
      "cell_type": "code",
      "metadata": {
        "id": "U9cuxV6u0ypZ"
      },
      "source": [
        "def load_data(files, width, height, debug=False):\r\n",
        "    X = []\r\n",
        "    for file in files:\r\n",
        "        im = cv2.imread(file,0)\r\n",
        "        im = cv2.resize(im, (width, height),interpolation = cv2.INTER_CUBIC)\r\n",
        "        if debug is True:\r\n",
        "            cv2_imshow(im)\r\n",
        "            debug = False\r\n",
        "        im = im.astype(np.float32)\r\n",
        "        im = im / 255\r\n",
        "        X.append(im)\r\n",
        "    X = np.array(X)\r\n",
        "    print(X.shape)\r\n",
        "    train_x = X.reshape(X.shape[0], width, height, 1)\r\n",
        "    return train_x"
      ],
      "execution_count": 17,
      "outputs": []
    },
    {
      "cell_type": "code",
      "metadata": {
        "colab": {
          "base_uri": "https://localhost:8080/"
        },
        "id": "a6NslTNV00sh",
        "outputId": "17cdc1fe-7b02-4364-fd36-25159864288a"
      },
      "source": [
        "trainX = load_data(cleaned,440, 440)\r\n",
        "trainXNoised = load_data(noised,440, 440)"
      ],
      "execution_count": 66,
      "outputs": [
        {
          "output_type": "stream",
          "text": [
            "(144, 440, 440)\n",
            "(144, 440, 440)\n"
          ],
          "name": "stdout"
        }
      ]
    },
    {
      "cell_type": "code",
      "metadata": {
        "colab": {
          "base_uri": "https://localhost:8080/"
        },
        "id": "HFG2iqIs043j",
        "outputId": "ca055ed1-3570-46a7-9b65-fe7489a4106c"
      },
      "source": [
        "split = int(len(trainX)*0.7)\r\n",
        "print(split)"
      ],
      "execution_count": 24,
      "outputs": [
        {
          "output_type": "stream",
          "text": [
            "100\n"
          ],
          "name": "stdout"
        }
      ]
    },
    {
      "cell_type": "code",
      "metadata": {
        "id": "fN7DPI1tp5YY"
      },
      "source": [
        "train_cleaned = trainX"
      ],
      "execution_count": 67,
      "outputs": []
    },
    {
      "cell_type": "code",
      "metadata": {
        "id": "PXBeK8smHUlv"
      },
      "source": [
        "train_Noise = trainXNoised"
      ],
      "execution_count": 68,
      "outputs": []
    },
    {
      "cell_type": "code",
      "metadata": {
        "colab": {
          "base_uri": "https://localhost:8080/"
        },
        "id": "cJOWV-hc06TV",
        "outputId": "cf495d33-60a0-4a71-8ef0-781995e9fed3"
      },
      "source": [
        "train_cleaned = trainX[:split, :, :]\r\n",
        "test_cleaned = trainX[split:, :, :]\r\n",
        "print(train_cleaned.shape)\r\n",
        "print(test_cleaned.shape)"
      ],
      "execution_count": 30,
      "outputs": [
        {
          "output_type": "stream",
          "text": [
            "(100, 440, 440, 1)\n",
            "(44, 440, 440, 1)\n"
          ],
          "name": "stdout"
        }
      ]
    },
    {
      "cell_type": "code",
      "metadata": {
        "colab": {
          "base_uri": "https://localhost:8080/"
        },
        "id": "9mLmYwNA07eM",
        "outputId": "5b2ac523-bc0c-4266-f84f-b856ef6faadf"
      },
      "source": [
        "train_Noise = trainXNoised[:split, :, :]\r\n",
        "test_Noise = trainXNoised[split:, :, :]\r\n",
        "print(train_Noise.shape)\r\n",
        "print(test_Noise.shape)"
      ],
      "execution_count": 34,
      "outputs": [
        {
          "output_type": "stream",
          "text": [
            "(100, 440, 440, 1)\n",
            "(44, 440, 440, 1)\n"
          ],
          "name": "stdout"
        }
      ]
    },
    {
      "cell_type": "code",
      "metadata": {
        "id": "R1JPHNY9GYzz"
      },
      "source": [
        "class DenoisingAutoencoder(Model):\r\n",
        "  def __init__(self):\r\n",
        "    super(DenoisingAutoencoder, self).__init__()\r\n",
        "    self.encoder = tf.keras.Sequential([\r\n",
        "        layers.Input(shape=(440, 440, 1)), \r\n",
        "        layers.Conv2D(48, (3, 3), activation='relu', padding='same'),\r\n",
        "        layers.Conv2D(72, (3, 3), activation='relu', padding='same'),\r\n",
        "        layers.Conv2D(144, (3, 3), activation='relu', padding='same'),\r\n",
        "        layers.BatchNormalization(),\r\n",
        "        layers.MaxPooling2D((2, 2), padding='same'),\r\n",
        "        layers.Dropout(0.5),\r\n",
        "    ])\r\n",
        "\r\n",
        "    self.decoder = tf.keras.Sequential([\r\n",
        "        layers.Conv2D(144, (3, 3), activation='relu', padding='same'),\r\n",
        "        layers.Conv2D(72, (3, 3), activation='relu', padding='same'),\r\n",
        "        layers.Conv2D(48, (3, 3), activation='relu', padding='same'),\r\n",
        "        layers.BatchNormalization(),\r\n",
        "        layers.UpSampling2D((2, 2)),\r\n",
        "        layers.Conv2D(1, (3, 3), activation='sigmoid', padding='same')\r\n",
        "    ])\r\n",
        "\r\n",
        "  def call(self, x):\r\n",
        "    encoded = self.encoder(x)\r\n",
        "    decoded = self.decoder(encoded)\r\n",
        "    return decoded\r\n"
      ],
      "execution_count": 69,
      "outputs": []
    },
    {
      "cell_type": "code",
      "metadata": {
        "id": "Nnqy9dfwqcLr"
      },
      "source": [
        "autoencoder = DenoisingAutoencoder()\r\n",
        "autoencoder.compile(optimizer='adam', loss='mean_squared_error', metrics=['mean_absolute_error'])"
      ],
      "execution_count": 70,
      "outputs": []
    },
    {
      "cell_type": "code",
      "metadata": {
        "id": "r26tsSQrqd7r"
      },
      "source": [
        ""
      ],
      "execution_count": 70,
      "outputs": []
    },
    {
      "cell_type": "code",
      "metadata": {
        "colab": {
          "base_uri": "https://localhost:8080/",
          "height": 1000
        },
        "id": "l7eJG0zPqzvZ",
        "outputId": "ba54193e-7140-4be1-ea59-29b6f4d4d4f7"
      },
      "source": [
        "es = callbacks.EarlyStopping(\r\n",
        "monitor='loss', patience=50, verbose=1, restore_best_weights=True\r\n",
        ")\r\n",
        "rlp = callbacks.ReduceLROnPlateau(\r\n",
        "     monitor='loss', factor=0.5, patience=5, min_lr=1e-6, mode='min', verbose=1\r\n",
        ")\r\n",
        "history =  autoencoder.fit(\r\n",
        "train_Noise, train_cleaned, \r\n",
        "     validation_split=0.2, \r\n",
        "shuffle=True,\r\n",
        "callbacks=[es, rlp], epochs=800, batch_size=12)"
      ],
      "execution_count": 75,
      "outputs": [
        {
          "output_type": "stream",
          "text": [
            "Epoch 1/800\n",
            "10/10 [==============================] - 10s 1s/step - loss: 0.0366 - mean_absolute_error: 0.1098 - val_loss: 0.0341 - val_mean_absolute_error: 0.1049\n",
            "Epoch 2/800\n",
            "10/10 [==============================] - 10s 1s/step - loss: 0.0366 - mean_absolute_error: 0.1098 - val_loss: 0.0341 - val_mean_absolute_error: 0.1049\n",
            "Epoch 3/800\n",
            "10/10 [==============================] - 11s 1s/step - loss: 0.0366 - mean_absolute_error: 0.1098 - val_loss: 0.0341 - val_mean_absolute_error: 0.1049\n",
            "Epoch 4/800\n",
            "10/10 [==============================] - 10s 1s/step - loss: 0.0366 - mean_absolute_error: 0.1098 - val_loss: 0.0341 - val_mean_absolute_error: 0.1049\n",
            "Epoch 5/800\n",
            "10/10 [==============================] - 10s 1s/step - loss: 0.0366 - mean_absolute_error: 0.1098 - val_loss: 0.0341 - val_mean_absolute_error: 0.1049\n",
            "Epoch 6/800\n",
            "10/10 [==============================] - 10s 1s/step - loss: 0.0366 - mean_absolute_error: 0.1098 - val_loss: 0.0341 - val_mean_absolute_error: 0.1049\n",
            "Epoch 7/800\n",
            "10/10 [==============================] - 10s 1s/step - loss: 0.0366 - mean_absolute_error: 0.1098 - val_loss: 0.0341 - val_mean_absolute_error: 0.1049\n",
            "Epoch 8/800\n",
            "10/10 [==============================] - 10s 1s/step - loss: 0.0366 - mean_absolute_error: 0.1098 - val_loss: 0.0341 - val_mean_absolute_error: 0.1049\n",
            "Epoch 9/800\n",
            "10/10 [==============================] - 10s 1s/step - loss: 0.0366 - mean_absolute_error: 0.1098 - val_loss: 0.0341 - val_mean_absolute_error: 0.1049\n",
            "Epoch 10/800\n",
            "10/10 [==============================] - 10s 1s/step - loss: 0.0366 - mean_absolute_error: 0.1098 - val_loss: 0.0341 - val_mean_absolute_error: 0.1049\n",
            "Epoch 11/800\n",
            "10/10 [==============================] - 10s 1s/step - loss: 0.0366 - mean_absolute_error: 0.1098 - val_loss: 0.0341 - val_mean_absolute_error: 0.1049\n",
            "Epoch 12/800\n",
            "10/10 [==============================] - 10s 1s/step - loss: 0.0366 - mean_absolute_error: 0.1098 - val_loss: 0.0341 - val_mean_absolute_error: 0.1049\n",
            "Epoch 13/800\n",
            "10/10 [==============================] - 10s 1s/step - loss: 0.0366 - mean_absolute_error: 0.1098 - val_loss: 0.0341 - val_mean_absolute_error: 0.1049\n",
            "Epoch 14/800\n",
            "10/10 [==============================] - 10s 1s/step - loss: 0.0366 - mean_absolute_error: 0.1098 - val_loss: 0.0341 - val_mean_absolute_error: 0.1049\n",
            "Epoch 15/800\n",
            "10/10 [==============================] - 10s 1s/step - loss: 0.0366 - mean_absolute_error: 0.1098 - val_loss: 0.0341 - val_mean_absolute_error: 0.1049\n",
            "Epoch 16/800\n",
            "10/10 [==============================] - 10s 1s/step - loss: 0.0366 - mean_absolute_error: 0.1098 - val_loss: 0.0341 - val_mean_absolute_error: 0.1049\n",
            "Epoch 17/800\n",
            "10/10 [==============================] - 10s 1s/step - loss: 0.0366 - mean_absolute_error: 0.1098 - val_loss: 0.0341 - val_mean_absolute_error: 0.1049\n",
            "Epoch 18/800\n",
            "10/10 [==============================] - 10s 1s/step - loss: 0.0366 - mean_absolute_error: 0.1098 - val_loss: 0.0341 - val_mean_absolute_error: 0.1049\n",
            "Epoch 19/800\n",
            "10/10 [==============================] - 10s 1s/step - loss: 0.0366 - mean_absolute_error: 0.1098 - val_loss: 0.0341 - val_mean_absolute_error: 0.1049\n",
            "Epoch 20/800\n",
            "10/10 [==============================] - 10s 1s/step - loss: 0.0366 - mean_absolute_error: 0.1098 - val_loss: 0.0341 - val_mean_absolute_error: 0.1049\n",
            "Epoch 21/800\n",
            "10/10 [==============================] - 10s 1s/step - loss: 0.0366 - mean_absolute_error: 0.1098 - val_loss: 0.0341 - val_mean_absolute_error: 0.1050\n",
            "Epoch 22/800\n",
            "10/10 [==============================] - 10s 1s/step - loss: 0.0366 - mean_absolute_error: 0.1098 - val_loss: 0.0341 - val_mean_absolute_error: 0.1050\n",
            "Epoch 23/800\n",
            "10/10 [==============================] - 10s 1s/step - loss: 0.0366 - mean_absolute_error: 0.1098 - val_loss: 0.0341 - val_mean_absolute_error: 0.1049\n",
            "Epoch 24/800\n",
            "10/10 [==============================] - 10s 1s/step - loss: 0.0366 - mean_absolute_error: 0.1098 - val_loss: 0.0341 - val_mean_absolute_error: 0.1049\n",
            "Epoch 25/800\n",
            "10/10 [==============================] - 10s 1s/step - loss: 0.0366 - mean_absolute_error: 0.1098 - val_loss: 0.0341 - val_mean_absolute_error: 0.1049\n",
            "Epoch 26/800\n",
            "10/10 [==============================] - 10s 1s/step - loss: 0.0366 - mean_absolute_error: 0.1098 - val_loss: 0.0341 - val_mean_absolute_error: 0.1049\n",
            "Epoch 27/800\n",
            "10/10 [==============================] - 10s 1s/step - loss: 0.0366 - mean_absolute_error: 0.1098 - val_loss: 0.0341 - val_mean_absolute_error: 0.1050\n",
            "Epoch 28/800\n",
            "10/10 [==============================] - 10s 1s/step - loss: 0.0366 - mean_absolute_error: 0.1098 - val_loss: 0.0341 - val_mean_absolute_error: 0.1050\n",
            "Epoch 29/800\n",
            "10/10 [==============================] - 10s 1s/step - loss: 0.0366 - mean_absolute_error: 0.1098 - val_loss: 0.0341 - val_mean_absolute_error: 0.1050\n",
            "Epoch 30/800\n",
            "10/10 [==============================] - 10s 1s/step - loss: 0.0366 - mean_absolute_error: 0.1098 - val_loss: 0.0341 - val_mean_absolute_error: 0.1050\n",
            "Epoch 31/800\n",
            "10/10 [==============================] - 10s 1s/step - loss: 0.0366 - mean_absolute_error: 0.1098 - val_loss: 0.0341 - val_mean_absolute_error: 0.1050\n",
            "Epoch 32/800\n",
            "10/10 [==============================] - 10s 1s/step - loss: 0.0366 - mean_absolute_error: 0.1098 - val_loss: 0.0341 - val_mean_absolute_error: 0.1049\n",
            "Epoch 33/800\n",
            "10/10 [==============================] - 10s 1s/step - loss: 0.0367 - mean_absolute_error: 0.1098 - val_loss: 0.0341 - val_mean_absolute_error: 0.1049\n",
            "Epoch 34/800\n",
            "10/10 [==============================] - 10s 1s/step - loss: 0.0367 - mean_absolute_error: 0.1098 - val_loss: 0.0341 - val_mean_absolute_error: 0.1048\n",
            "Epoch 35/800\n",
            "10/10 [==============================] - 10s 1s/step - loss: 0.0366 - mean_absolute_error: 0.1098 - val_loss: 0.0341 - val_mean_absolute_error: 0.1048\n",
            "Epoch 36/800\n",
            "10/10 [==============================] - 10s 1s/step - loss: 0.0366 - mean_absolute_error: 0.1098 - val_loss: 0.0341 - val_mean_absolute_error: 0.1048\n",
            "Epoch 37/800\n",
            "10/10 [==============================] - 10s 1s/step - loss: 0.0366 - mean_absolute_error: 0.1098 - val_loss: 0.0341 - val_mean_absolute_error: 0.1048\n",
            "Epoch 38/800\n",
            "10/10 [==============================] - 10s 1s/step - loss: 0.0366 - mean_absolute_error: 0.1098 - val_loss: 0.0341 - val_mean_absolute_error: 0.1048\n",
            "Epoch 39/800\n",
            "10/10 [==============================] - 10s 1s/step - loss: 0.0367 - mean_absolute_error: 0.1098 - val_loss: 0.0341 - val_mean_absolute_error: 0.1047\n",
            "Epoch 40/800\n",
            "10/10 [==============================] - 10s 1s/step - loss: 0.0366 - mean_absolute_error: 0.1097 - val_loss: 0.0341 - val_mean_absolute_error: 0.1048\n",
            "Epoch 41/800\n",
            "10/10 [==============================] - 10s 1s/step - loss: 0.0366 - mean_absolute_error: 0.1097 - val_loss: 0.0341 - val_mean_absolute_error: 0.1049\n",
            "Epoch 42/800\n",
            "10/10 [==============================] - 10s 1s/step - loss: 0.0366 - mean_absolute_error: 0.1098 - val_loss: 0.0341 - val_mean_absolute_error: 0.1049\n",
            "Epoch 43/800\n",
            "10/10 [==============================] - 10s 1s/step - loss: 0.0366 - mean_absolute_error: 0.1097 - val_loss: 0.0341 - val_mean_absolute_error: 0.1049\n",
            "Epoch 44/800\n",
            "10/10 [==============================] - 10s 1s/step - loss: 0.0366 - mean_absolute_error: 0.1098 - val_loss: 0.0341 - val_mean_absolute_error: 0.1049\n",
            "Epoch 45/800\n",
            "10/10 [==============================] - 10s 1s/step - loss: 0.0366 - mean_absolute_error: 0.1098 - val_loss: 0.0341 - val_mean_absolute_error: 0.1050\n",
            "Epoch 46/800\n",
            "10/10 [==============================] - 10s 1s/step - loss: 0.0366 - mean_absolute_error: 0.1098 - val_loss: 0.0341 - val_mean_absolute_error: 0.1049\n",
            "Epoch 47/800\n",
            "10/10 [==============================] - 10s 1s/step - loss: 0.0366 - mean_absolute_error: 0.1097 - val_loss: 0.0341 - val_mean_absolute_error: 0.1050\n",
            "Epoch 48/800\n",
            "10/10 [==============================] - 10s 1s/step - loss: 0.0366 - mean_absolute_error: 0.1098 - val_loss: 0.0341 - val_mean_absolute_error: 0.1050\n",
            "Epoch 49/800\n",
            "10/10 [==============================] - 10s 1s/step - loss: 0.0366 - mean_absolute_error: 0.1097 - val_loss: 0.0341 - val_mean_absolute_error: 0.1050\n",
            "Epoch 50/800\n",
            "10/10 [==============================] - 10s 1s/step - loss: 0.0366 - mean_absolute_error: 0.1097 - val_loss: 0.0341 - val_mean_absolute_error: 0.1050\n",
            "Epoch 51/800\n",
            "10/10 [==============================] - 10s 1s/step - loss: 0.0366 - mean_absolute_error: 0.1098 - val_loss: 0.0341 - val_mean_absolute_error: 0.1050\n",
            "Epoch 52/800\n",
            "10/10 [==============================] - 10s 1s/step - loss: 0.0366 - mean_absolute_error: 0.1097 - val_loss: 0.0341 - val_mean_absolute_error: 0.1050\n",
            "Epoch 53/800\n",
            "10/10 [==============================] - 10s 1s/step - loss: 0.0366 - mean_absolute_error: 0.1098 - val_loss: 0.0341 - val_mean_absolute_error: 0.1050\n",
            "Epoch 54/800\n",
            "10/10 [==============================] - 10s 1s/step - loss: 0.0366 - mean_absolute_error: 0.1097 - val_loss: 0.0341 - val_mean_absolute_error: 0.1051\n",
            "Epoch 55/800\n",
            "10/10 [==============================] - 10s 1s/step - loss: 0.0366 - mean_absolute_error: 0.1098 - val_loss: 0.0341 - val_mean_absolute_error: 0.1050\n",
            "Epoch 56/800\n",
            "10/10 [==============================] - 10s 1s/step - loss: 0.0366 - mean_absolute_error: 0.1097 - val_loss: 0.0341 - val_mean_absolute_error: 0.1050\n",
            "Epoch 57/800\n",
            "10/10 [==============================] - 10s 1s/step - loss: 0.0366 - mean_absolute_error: 0.1097 - val_loss: 0.0341 - val_mean_absolute_error: 0.1050\n",
            "Epoch 58/800\n",
            "10/10 [==============================] - 10s 1s/step - loss: 0.0366 - mean_absolute_error: 0.1098 - val_loss: 0.0341 - val_mean_absolute_error: 0.1050\n",
            "Epoch 59/800\n",
            "10/10 [==============================] - 10s 1s/step - loss: 0.0366 - mean_absolute_error: 0.1098 - val_loss: 0.0341 - val_mean_absolute_error: 0.1050\n",
            "Epoch 60/800\n",
            "10/10 [==============================] - 10s 1s/step - loss: 0.0367 - mean_absolute_error: 0.1098 - val_loss: 0.0341 - val_mean_absolute_error: 0.1050\n",
            "Epoch 61/800\n",
            "10/10 [==============================] - 10s 1s/step - loss: 0.0366 - mean_absolute_error: 0.1097 - val_loss: 0.0341 - val_mean_absolute_error: 0.1049\n",
            "Epoch 62/800\n",
            "10/10 [==============================] - 10s 1s/step - loss: 0.0366 - mean_absolute_error: 0.1098 - val_loss: 0.0341 - val_mean_absolute_error: 0.1049\n",
            "Epoch 63/800\n",
            "10/10 [==============================] - 10s 1s/step - loss: 0.0366 - mean_absolute_error: 0.1097 - val_loss: 0.0341 - val_mean_absolute_error: 0.1049\n",
            "Epoch 64/800\n",
            " 9/10 [==========================>...] - ETA: 1s - loss: 0.0368 - mean_absolute_error: 0.1099"
          ],
          "name": "stdout"
        },
        {
          "output_type": "error",
          "ename": "KeyboardInterrupt",
          "evalue": "ignored",
          "traceback": [
            "\u001b[0;31m---------------------------------------------------------------------------\u001b[0m",
            "\u001b[0;31mKeyboardInterrupt\u001b[0m                         Traceback (most recent call last)",
            "\u001b[0;32m<ipython-input-75-3c1b9f697b3a>\u001b[0m in \u001b[0;36m<module>\u001b[0;34m()\u001b[0m\n\u001b[1;32m      9\u001b[0m      \u001b[0mvalidation_split\u001b[0m\u001b[0;34m=\u001b[0m\u001b[0;36m0.2\u001b[0m\u001b[0;34m,\u001b[0m\u001b[0;34m\u001b[0m\u001b[0;34m\u001b[0m\u001b[0m\n\u001b[1;32m     10\u001b[0m \u001b[0mshuffle\u001b[0m\u001b[0;34m=\u001b[0m\u001b[0;32mTrue\u001b[0m\u001b[0;34m,\u001b[0m\u001b[0;34m\u001b[0m\u001b[0;34m\u001b[0m\u001b[0m\n\u001b[0;32m---> 11\u001b[0;31m callbacks=[es, rlp], epochs=800, batch_size=12)\n\u001b[0m",
            "\u001b[0;32m/usr/local/lib/python3.6/dist-packages/tensorflow/python/keras/engine/training.py\u001b[0m in \u001b[0;36mfit\u001b[0;34m(self, x, y, batch_size, epochs, verbose, callbacks, validation_split, validation_data, shuffle, class_weight, sample_weight, initial_epoch, steps_per_epoch, validation_steps, validation_batch_size, validation_freq, max_queue_size, workers, use_multiprocessing)\u001b[0m\n\u001b[1;32m   1103\u001b[0m               \u001b[0mlogs\u001b[0m \u001b[0;34m=\u001b[0m \u001b[0mtmp_logs\u001b[0m  \u001b[0;31m# No error, now safe to assign to logs.\u001b[0m\u001b[0;34m\u001b[0m\u001b[0;34m\u001b[0m\u001b[0m\n\u001b[1;32m   1104\u001b[0m               \u001b[0mend_step\u001b[0m \u001b[0;34m=\u001b[0m \u001b[0mstep\u001b[0m \u001b[0;34m+\u001b[0m \u001b[0mdata_handler\u001b[0m\u001b[0;34m.\u001b[0m\u001b[0mstep_increment\u001b[0m\u001b[0;34m\u001b[0m\u001b[0;34m\u001b[0m\u001b[0m\n\u001b[0;32m-> 1105\u001b[0;31m               \u001b[0mcallbacks\u001b[0m\u001b[0;34m.\u001b[0m\u001b[0mon_train_batch_end\u001b[0m\u001b[0;34m(\u001b[0m\u001b[0mend_step\u001b[0m\u001b[0;34m,\u001b[0m \u001b[0mlogs\u001b[0m\u001b[0;34m)\u001b[0m\u001b[0;34m\u001b[0m\u001b[0;34m\u001b[0m\u001b[0m\n\u001b[0m\u001b[1;32m   1106\u001b[0m               \u001b[0;32mif\u001b[0m \u001b[0mself\u001b[0m\u001b[0;34m.\u001b[0m\u001b[0mstop_training\u001b[0m\u001b[0;34m:\u001b[0m\u001b[0;34m\u001b[0m\u001b[0;34m\u001b[0m\u001b[0m\n\u001b[1;32m   1107\u001b[0m                 \u001b[0;32mbreak\u001b[0m\u001b[0;34m\u001b[0m\u001b[0;34m\u001b[0m\u001b[0m\n",
            "\u001b[0;32m/usr/local/lib/python3.6/dist-packages/tensorflow/python/keras/callbacks.py\u001b[0m in \u001b[0;36mon_train_batch_end\u001b[0;34m(self, batch, logs)\u001b[0m\n\u001b[1;32m    452\u001b[0m     \"\"\"\n\u001b[1;32m    453\u001b[0m     \u001b[0;32mif\u001b[0m \u001b[0mself\u001b[0m\u001b[0;34m.\u001b[0m\u001b[0m_should_call_train_batch_hooks\u001b[0m\u001b[0;34m:\u001b[0m\u001b[0;34m\u001b[0m\u001b[0;34m\u001b[0m\u001b[0m\n\u001b[0;32m--> 454\u001b[0;31m       \u001b[0mself\u001b[0m\u001b[0;34m.\u001b[0m\u001b[0m_call_batch_hook\u001b[0m\u001b[0;34m(\u001b[0m\u001b[0mModeKeys\u001b[0m\u001b[0;34m.\u001b[0m\u001b[0mTRAIN\u001b[0m\u001b[0;34m,\u001b[0m \u001b[0;34m'end'\u001b[0m\u001b[0;34m,\u001b[0m \u001b[0mbatch\u001b[0m\u001b[0;34m,\u001b[0m \u001b[0mlogs\u001b[0m\u001b[0;34m=\u001b[0m\u001b[0mlogs\u001b[0m\u001b[0;34m)\u001b[0m\u001b[0;34m\u001b[0m\u001b[0;34m\u001b[0m\u001b[0m\n\u001b[0m\u001b[1;32m    455\u001b[0m \u001b[0;34m\u001b[0m\u001b[0m\n\u001b[1;32m    456\u001b[0m   \u001b[0;32mdef\u001b[0m \u001b[0mon_test_batch_begin\u001b[0m\u001b[0;34m(\u001b[0m\u001b[0mself\u001b[0m\u001b[0;34m,\u001b[0m \u001b[0mbatch\u001b[0m\u001b[0;34m,\u001b[0m \u001b[0mlogs\u001b[0m\u001b[0;34m=\u001b[0m\u001b[0;32mNone\u001b[0m\u001b[0;34m)\u001b[0m\u001b[0;34m:\u001b[0m\u001b[0;34m\u001b[0m\u001b[0;34m\u001b[0m\u001b[0m\n",
            "\u001b[0;32m/usr/local/lib/python3.6/dist-packages/tensorflow/python/keras/callbacks.py\u001b[0m in \u001b[0;36m_call_batch_hook\u001b[0;34m(self, mode, hook, batch, logs)\u001b[0m\n\u001b[1;32m    294\u001b[0m       \u001b[0mself\u001b[0m\u001b[0;34m.\u001b[0m\u001b[0m_call_batch_begin_hook\u001b[0m\u001b[0;34m(\u001b[0m\u001b[0mmode\u001b[0m\u001b[0;34m,\u001b[0m \u001b[0mbatch\u001b[0m\u001b[0;34m,\u001b[0m \u001b[0mlogs\u001b[0m\u001b[0;34m)\u001b[0m\u001b[0;34m\u001b[0m\u001b[0;34m\u001b[0m\u001b[0m\n\u001b[1;32m    295\u001b[0m     \u001b[0;32melif\u001b[0m \u001b[0mhook\u001b[0m \u001b[0;34m==\u001b[0m \u001b[0;34m'end'\u001b[0m\u001b[0;34m:\u001b[0m\u001b[0;34m\u001b[0m\u001b[0;34m\u001b[0m\u001b[0m\n\u001b[0;32m--> 296\u001b[0;31m       \u001b[0mself\u001b[0m\u001b[0;34m.\u001b[0m\u001b[0m_call_batch_end_hook\u001b[0m\u001b[0;34m(\u001b[0m\u001b[0mmode\u001b[0m\u001b[0;34m,\u001b[0m \u001b[0mbatch\u001b[0m\u001b[0;34m,\u001b[0m \u001b[0mlogs\u001b[0m\u001b[0;34m)\u001b[0m\u001b[0;34m\u001b[0m\u001b[0;34m\u001b[0m\u001b[0m\n\u001b[0m\u001b[1;32m    297\u001b[0m     \u001b[0;32melse\u001b[0m\u001b[0;34m:\u001b[0m\u001b[0;34m\u001b[0m\u001b[0;34m\u001b[0m\u001b[0m\n\u001b[1;32m    298\u001b[0m       \u001b[0;32mraise\u001b[0m \u001b[0mValueError\u001b[0m\u001b[0;34m(\u001b[0m\u001b[0;34m'Unrecognized hook: {}'\u001b[0m\u001b[0;34m.\u001b[0m\u001b[0mformat\u001b[0m\u001b[0;34m(\u001b[0m\u001b[0mhook\u001b[0m\u001b[0;34m)\u001b[0m\u001b[0;34m)\u001b[0m\u001b[0;34m\u001b[0m\u001b[0;34m\u001b[0m\u001b[0m\n",
            "\u001b[0;32m/usr/local/lib/python3.6/dist-packages/tensorflow/python/keras/callbacks.py\u001b[0m in \u001b[0;36m_call_batch_end_hook\u001b[0;34m(self, mode, batch, logs)\u001b[0m\n\u001b[1;32m    314\u001b[0m       \u001b[0mself\u001b[0m\u001b[0;34m.\u001b[0m\u001b[0m_batch_times\u001b[0m\u001b[0;34m.\u001b[0m\u001b[0mappend\u001b[0m\u001b[0;34m(\u001b[0m\u001b[0mbatch_time\u001b[0m\u001b[0;34m)\u001b[0m\u001b[0;34m\u001b[0m\u001b[0;34m\u001b[0m\u001b[0m\n\u001b[1;32m    315\u001b[0m \u001b[0;34m\u001b[0m\u001b[0m\n\u001b[0;32m--> 316\u001b[0;31m     \u001b[0mself\u001b[0m\u001b[0;34m.\u001b[0m\u001b[0m_call_batch_hook_helper\u001b[0m\u001b[0;34m(\u001b[0m\u001b[0mhook_name\u001b[0m\u001b[0;34m,\u001b[0m \u001b[0mbatch\u001b[0m\u001b[0;34m,\u001b[0m \u001b[0mlogs\u001b[0m\u001b[0;34m)\u001b[0m\u001b[0;34m\u001b[0m\u001b[0;34m\u001b[0m\u001b[0m\n\u001b[0m\u001b[1;32m    317\u001b[0m \u001b[0;34m\u001b[0m\u001b[0m\n\u001b[1;32m    318\u001b[0m     \u001b[0;32mif\u001b[0m \u001b[0mlen\u001b[0m\u001b[0;34m(\u001b[0m\u001b[0mself\u001b[0m\u001b[0;34m.\u001b[0m\u001b[0m_batch_times\u001b[0m\u001b[0;34m)\u001b[0m \u001b[0;34m>=\u001b[0m \u001b[0mself\u001b[0m\u001b[0;34m.\u001b[0m\u001b[0m_num_batches_for_timing_check\u001b[0m\u001b[0;34m:\u001b[0m\u001b[0;34m\u001b[0m\u001b[0;34m\u001b[0m\u001b[0m\n",
            "\u001b[0;32m/usr/local/lib/python3.6/dist-packages/tensorflow/python/keras/callbacks.py\u001b[0m in \u001b[0;36m_call_batch_hook_helper\u001b[0;34m(self, hook_name, batch, logs)\u001b[0m\n\u001b[1;32m    354\u001b[0m       \u001b[0mhook\u001b[0m \u001b[0;34m=\u001b[0m \u001b[0mgetattr\u001b[0m\u001b[0;34m(\u001b[0m\u001b[0mcallback\u001b[0m\u001b[0;34m,\u001b[0m \u001b[0mhook_name\u001b[0m\u001b[0;34m)\u001b[0m\u001b[0;34m\u001b[0m\u001b[0;34m\u001b[0m\u001b[0m\n\u001b[1;32m    355\u001b[0m       \u001b[0;32mif\u001b[0m \u001b[0mgetattr\u001b[0m\u001b[0;34m(\u001b[0m\u001b[0mcallback\u001b[0m\u001b[0;34m,\u001b[0m \u001b[0;34m'_supports_tf_logs'\u001b[0m\u001b[0;34m,\u001b[0m \u001b[0;32mFalse\u001b[0m\u001b[0;34m)\u001b[0m\u001b[0;34m:\u001b[0m\u001b[0;34m\u001b[0m\u001b[0;34m\u001b[0m\u001b[0m\n\u001b[0;32m--> 356\u001b[0;31m         \u001b[0mhook\u001b[0m\u001b[0;34m(\u001b[0m\u001b[0mbatch\u001b[0m\u001b[0;34m,\u001b[0m \u001b[0mlogs\u001b[0m\u001b[0;34m)\u001b[0m\u001b[0;34m\u001b[0m\u001b[0;34m\u001b[0m\u001b[0m\n\u001b[0m\u001b[1;32m    357\u001b[0m       \u001b[0;32melse\u001b[0m\u001b[0;34m:\u001b[0m\u001b[0;34m\u001b[0m\u001b[0;34m\u001b[0m\u001b[0m\n\u001b[1;32m    358\u001b[0m         \u001b[0;32mif\u001b[0m \u001b[0mnumpy_logs\u001b[0m \u001b[0;32mis\u001b[0m \u001b[0;32mNone\u001b[0m\u001b[0;34m:\u001b[0m  \u001b[0;31m# Only convert once.\u001b[0m\u001b[0;34m\u001b[0m\u001b[0;34m\u001b[0m\u001b[0m\n",
            "\u001b[0;32m/usr/local/lib/python3.6/dist-packages/tensorflow/python/keras/callbacks.py\u001b[0m in \u001b[0;36mon_train_batch_end\u001b[0;34m(self, batch, logs)\u001b[0m\n\u001b[1;32m   1018\u001b[0m \u001b[0;34m\u001b[0m\u001b[0m\n\u001b[1;32m   1019\u001b[0m   \u001b[0;32mdef\u001b[0m \u001b[0mon_train_batch_end\u001b[0m\u001b[0;34m(\u001b[0m\u001b[0mself\u001b[0m\u001b[0;34m,\u001b[0m \u001b[0mbatch\u001b[0m\u001b[0;34m,\u001b[0m \u001b[0mlogs\u001b[0m\u001b[0;34m=\u001b[0m\u001b[0;32mNone\u001b[0m\u001b[0;34m)\u001b[0m\u001b[0;34m:\u001b[0m\u001b[0;34m\u001b[0m\u001b[0;34m\u001b[0m\u001b[0m\n\u001b[0;32m-> 1020\u001b[0;31m     \u001b[0mself\u001b[0m\u001b[0;34m.\u001b[0m\u001b[0m_batch_update_progbar\u001b[0m\u001b[0;34m(\u001b[0m\u001b[0mbatch\u001b[0m\u001b[0;34m,\u001b[0m \u001b[0mlogs\u001b[0m\u001b[0;34m)\u001b[0m\u001b[0;34m\u001b[0m\u001b[0;34m\u001b[0m\u001b[0m\n\u001b[0m\u001b[1;32m   1021\u001b[0m \u001b[0;34m\u001b[0m\u001b[0m\n\u001b[1;32m   1022\u001b[0m   \u001b[0;32mdef\u001b[0m \u001b[0mon_test_batch_end\u001b[0m\u001b[0;34m(\u001b[0m\u001b[0mself\u001b[0m\u001b[0;34m,\u001b[0m \u001b[0mbatch\u001b[0m\u001b[0;34m,\u001b[0m \u001b[0mlogs\u001b[0m\u001b[0;34m=\u001b[0m\u001b[0;32mNone\u001b[0m\u001b[0;34m)\u001b[0m\u001b[0;34m:\u001b[0m\u001b[0;34m\u001b[0m\u001b[0;34m\u001b[0m\u001b[0m\n",
            "\u001b[0;32m/usr/local/lib/python3.6/dist-packages/tensorflow/python/keras/callbacks.py\u001b[0m in \u001b[0;36m_batch_update_progbar\u001b[0;34m(self, batch, logs)\u001b[0m\n\u001b[1;32m   1082\u001b[0m     \u001b[0;32mif\u001b[0m \u001b[0mself\u001b[0m\u001b[0;34m.\u001b[0m\u001b[0mverbose\u001b[0m \u001b[0;34m==\u001b[0m \u001b[0;36m1\u001b[0m\u001b[0;34m:\u001b[0m\u001b[0;34m\u001b[0m\u001b[0;34m\u001b[0m\u001b[0m\n\u001b[1;32m   1083\u001b[0m       \u001b[0;31m# Only block async when verbose = 1.\u001b[0m\u001b[0;34m\u001b[0m\u001b[0;34m\u001b[0m\u001b[0;34m\u001b[0m\u001b[0m\n\u001b[0;32m-> 1084\u001b[0;31m       \u001b[0mlogs\u001b[0m \u001b[0;34m=\u001b[0m \u001b[0mtf_utils\u001b[0m\u001b[0;34m.\u001b[0m\u001b[0mto_numpy_or_python_type\u001b[0m\u001b[0;34m(\u001b[0m\u001b[0mlogs\u001b[0m\u001b[0;34m)\u001b[0m\u001b[0;34m\u001b[0m\u001b[0;34m\u001b[0m\u001b[0m\n\u001b[0m\u001b[1;32m   1085\u001b[0m       \u001b[0mself\u001b[0m\u001b[0;34m.\u001b[0m\u001b[0mprogbar\u001b[0m\u001b[0;34m.\u001b[0m\u001b[0mupdate\u001b[0m\u001b[0;34m(\u001b[0m\u001b[0mself\u001b[0m\u001b[0;34m.\u001b[0m\u001b[0mseen\u001b[0m\u001b[0;34m,\u001b[0m \u001b[0mlist\u001b[0m\u001b[0;34m(\u001b[0m\u001b[0mlogs\u001b[0m\u001b[0;34m.\u001b[0m\u001b[0mitems\u001b[0m\u001b[0;34m(\u001b[0m\u001b[0;34m)\u001b[0m\u001b[0;34m)\u001b[0m\u001b[0;34m,\u001b[0m \u001b[0mfinalize\u001b[0m\u001b[0;34m=\u001b[0m\u001b[0;32mFalse\u001b[0m\u001b[0;34m)\u001b[0m\u001b[0;34m\u001b[0m\u001b[0;34m\u001b[0m\u001b[0m\n\u001b[1;32m   1086\u001b[0m \u001b[0;34m\u001b[0m\u001b[0m\n",
            "\u001b[0;32m/usr/local/lib/python3.6/dist-packages/tensorflow/python/keras/utils/tf_utils.py\u001b[0m in \u001b[0;36mto_numpy_or_python_type\u001b[0;34m(tensors)\u001b[0m\n\u001b[1;32m    512\u001b[0m     \u001b[0;32mreturn\u001b[0m \u001b[0mt\u001b[0m  \u001b[0;31m# Don't turn ragged or sparse tensors to NumPy.\u001b[0m\u001b[0;34m\u001b[0m\u001b[0;34m\u001b[0m\u001b[0m\n\u001b[1;32m    513\u001b[0m \u001b[0;34m\u001b[0m\u001b[0m\n\u001b[0;32m--> 514\u001b[0;31m   \u001b[0;32mreturn\u001b[0m \u001b[0mnest\u001b[0m\u001b[0;34m.\u001b[0m\u001b[0mmap_structure\u001b[0m\u001b[0;34m(\u001b[0m\u001b[0m_to_single_numpy_or_python_type\u001b[0m\u001b[0;34m,\u001b[0m \u001b[0mtensors\u001b[0m\u001b[0;34m)\u001b[0m\u001b[0;34m\u001b[0m\u001b[0;34m\u001b[0m\u001b[0m\n\u001b[0m\u001b[1;32m    515\u001b[0m \u001b[0;34m\u001b[0m\u001b[0m\n\u001b[1;32m    516\u001b[0m \u001b[0;34m\u001b[0m\u001b[0m\n",
            "\u001b[0;32m/usr/local/lib/python3.6/dist-packages/tensorflow/python/util/nest.py\u001b[0m in \u001b[0;36mmap_structure\u001b[0;34m(func, *structure, **kwargs)\u001b[0m\n\u001b[1;32m    657\u001b[0m \u001b[0;34m\u001b[0m\u001b[0m\n\u001b[1;32m    658\u001b[0m   return pack_sequence_as(\n\u001b[0;32m--> 659\u001b[0;31m       \u001b[0mstructure\u001b[0m\u001b[0;34m[\u001b[0m\u001b[0;36m0\u001b[0m\u001b[0;34m]\u001b[0m\u001b[0;34m,\u001b[0m \u001b[0;34m[\u001b[0m\u001b[0mfunc\u001b[0m\u001b[0;34m(\u001b[0m\u001b[0;34m*\u001b[0m\u001b[0mx\u001b[0m\u001b[0;34m)\u001b[0m \u001b[0;32mfor\u001b[0m \u001b[0mx\u001b[0m \u001b[0;32min\u001b[0m \u001b[0mentries\u001b[0m\u001b[0;34m]\u001b[0m\u001b[0;34m,\u001b[0m\u001b[0;34m\u001b[0m\u001b[0;34m\u001b[0m\u001b[0m\n\u001b[0m\u001b[1;32m    660\u001b[0m       expand_composites=expand_composites)\n\u001b[1;32m    661\u001b[0m \u001b[0;34m\u001b[0m\u001b[0m\n",
            "\u001b[0;32m/usr/local/lib/python3.6/dist-packages/tensorflow/python/util/nest.py\u001b[0m in \u001b[0;36m<listcomp>\u001b[0;34m(.0)\u001b[0m\n\u001b[1;32m    657\u001b[0m \u001b[0;34m\u001b[0m\u001b[0m\n\u001b[1;32m    658\u001b[0m   return pack_sequence_as(\n\u001b[0;32m--> 659\u001b[0;31m       \u001b[0mstructure\u001b[0m\u001b[0;34m[\u001b[0m\u001b[0;36m0\u001b[0m\u001b[0;34m]\u001b[0m\u001b[0;34m,\u001b[0m \u001b[0;34m[\u001b[0m\u001b[0mfunc\u001b[0m\u001b[0;34m(\u001b[0m\u001b[0;34m*\u001b[0m\u001b[0mx\u001b[0m\u001b[0;34m)\u001b[0m \u001b[0;32mfor\u001b[0m \u001b[0mx\u001b[0m \u001b[0;32min\u001b[0m \u001b[0mentries\u001b[0m\u001b[0;34m]\u001b[0m\u001b[0;34m,\u001b[0m\u001b[0;34m\u001b[0m\u001b[0;34m\u001b[0m\u001b[0m\n\u001b[0m\u001b[1;32m    660\u001b[0m       expand_composites=expand_composites)\n\u001b[1;32m    661\u001b[0m \u001b[0;34m\u001b[0m\u001b[0m\n",
            "\u001b[0;32m/usr/local/lib/python3.6/dist-packages/tensorflow/python/keras/utils/tf_utils.py\u001b[0m in \u001b[0;36m_to_single_numpy_or_python_type\u001b[0;34m(t)\u001b[0m\n\u001b[1;32m    508\u001b[0m   \u001b[0;32mdef\u001b[0m \u001b[0m_to_single_numpy_or_python_type\u001b[0m\u001b[0;34m(\u001b[0m\u001b[0mt\u001b[0m\u001b[0;34m)\u001b[0m\u001b[0;34m:\u001b[0m\u001b[0;34m\u001b[0m\u001b[0;34m\u001b[0m\u001b[0m\n\u001b[1;32m    509\u001b[0m     \u001b[0;32mif\u001b[0m \u001b[0misinstance\u001b[0m\u001b[0;34m(\u001b[0m\u001b[0mt\u001b[0m\u001b[0;34m,\u001b[0m \u001b[0mops\u001b[0m\u001b[0;34m.\u001b[0m\u001b[0mTensor\u001b[0m\u001b[0;34m)\u001b[0m\u001b[0;34m:\u001b[0m\u001b[0;34m\u001b[0m\u001b[0;34m\u001b[0m\u001b[0m\n\u001b[0;32m--> 510\u001b[0;31m       \u001b[0mx\u001b[0m \u001b[0;34m=\u001b[0m \u001b[0mt\u001b[0m\u001b[0;34m.\u001b[0m\u001b[0mnumpy\u001b[0m\u001b[0;34m(\u001b[0m\u001b[0;34m)\u001b[0m\u001b[0;34m\u001b[0m\u001b[0;34m\u001b[0m\u001b[0m\n\u001b[0m\u001b[1;32m    511\u001b[0m       \u001b[0;32mreturn\u001b[0m \u001b[0mx\u001b[0m\u001b[0;34m.\u001b[0m\u001b[0mitem\u001b[0m\u001b[0;34m(\u001b[0m\u001b[0;34m)\u001b[0m \u001b[0;32mif\u001b[0m \u001b[0mnp\u001b[0m\u001b[0;34m.\u001b[0m\u001b[0mndim\u001b[0m\u001b[0;34m(\u001b[0m\u001b[0mx\u001b[0m\u001b[0;34m)\u001b[0m \u001b[0;34m==\u001b[0m \u001b[0;36m0\u001b[0m \u001b[0;32melse\u001b[0m \u001b[0mx\u001b[0m\u001b[0;34m\u001b[0m\u001b[0;34m\u001b[0m\u001b[0m\n\u001b[1;32m    512\u001b[0m     \u001b[0;32mreturn\u001b[0m \u001b[0mt\u001b[0m  \u001b[0;31m# Don't turn ragged or sparse tensors to NumPy.\u001b[0m\u001b[0;34m\u001b[0m\u001b[0;34m\u001b[0m\u001b[0m\n",
            "\u001b[0;32m/usr/local/lib/python3.6/dist-packages/tensorflow/python/framework/ops.py\u001b[0m in \u001b[0;36mnumpy\u001b[0;34m(self)\u001b[0m\n\u001b[1;32m   1069\u001b[0m     \"\"\"\n\u001b[1;32m   1070\u001b[0m     \u001b[0;31m# TODO(slebedev): Consider avoiding a copy for non-CPU or remote tensors.\u001b[0m\u001b[0;34m\u001b[0m\u001b[0;34m\u001b[0m\u001b[0;34m\u001b[0m\u001b[0m\n\u001b[0;32m-> 1071\u001b[0;31m     \u001b[0mmaybe_arr\u001b[0m \u001b[0;34m=\u001b[0m \u001b[0mself\u001b[0m\u001b[0;34m.\u001b[0m\u001b[0m_numpy\u001b[0m\u001b[0;34m(\u001b[0m\u001b[0;34m)\u001b[0m  \u001b[0;31m# pylint: disable=protected-access\u001b[0m\u001b[0;34m\u001b[0m\u001b[0;34m\u001b[0m\u001b[0m\n\u001b[0m\u001b[1;32m   1072\u001b[0m     \u001b[0;32mreturn\u001b[0m \u001b[0mmaybe_arr\u001b[0m\u001b[0;34m.\u001b[0m\u001b[0mcopy\u001b[0m\u001b[0;34m(\u001b[0m\u001b[0;34m)\u001b[0m \u001b[0;32mif\u001b[0m \u001b[0misinstance\u001b[0m\u001b[0;34m(\u001b[0m\u001b[0mmaybe_arr\u001b[0m\u001b[0;34m,\u001b[0m \u001b[0mnp\u001b[0m\u001b[0;34m.\u001b[0m\u001b[0mndarray\u001b[0m\u001b[0;34m)\u001b[0m \u001b[0;32melse\u001b[0m \u001b[0mmaybe_arr\u001b[0m\u001b[0;34m\u001b[0m\u001b[0;34m\u001b[0m\u001b[0m\n\u001b[1;32m   1073\u001b[0m \u001b[0;34m\u001b[0m\u001b[0m\n",
            "\u001b[0;32m/usr/local/lib/python3.6/dist-packages/tensorflow/python/framework/ops.py\u001b[0m in \u001b[0;36m_numpy\u001b[0;34m(self)\u001b[0m\n\u001b[1;32m   1035\u001b[0m   \u001b[0;32mdef\u001b[0m \u001b[0m_numpy\u001b[0m\u001b[0;34m(\u001b[0m\u001b[0mself\u001b[0m\u001b[0;34m)\u001b[0m\u001b[0;34m:\u001b[0m\u001b[0;34m\u001b[0m\u001b[0;34m\u001b[0m\u001b[0m\n\u001b[1;32m   1036\u001b[0m     \u001b[0;32mtry\u001b[0m\u001b[0;34m:\u001b[0m\u001b[0;34m\u001b[0m\u001b[0;34m\u001b[0m\u001b[0m\n\u001b[0;32m-> 1037\u001b[0;31m       \u001b[0;32mreturn\u001b[0m \u001b[0mself\u001b[0m\u001b[0;34m.\u001b[0m\u001b[0m_numpy_internal\u001b[0m\u001b[0;34m(\u001b[0m\u001b[0;34m)\u001b[0m\u001b[0;34m\u001b[0m\u001b[0;34m\u001b[0m\u001b[0m\n\u001b[0m\u001b[1;32m   1038\u001b[0m     \u001b[0;32mexcept\u001b[0m \u001b[0mcore\u001b[0m\u001b[0;34m.\u001b[0m\u001b[0m_NotOkStatusException\u001b[0m \u001b[0;32mas\u001b[0m \u001b[0me\u001b[0m\u001b[0;34m:\u001b[0m  \u001b[0;31m# pylint: disable=protected-access\u001b[0m\u001b[0;34m\u001b[0m\u001b[0;34m\u001b[0m\u001b[0m\n\u001b[1;32m   1039\u001b[0m       \u001b[0msix\u001b[0m\u001b[0;34m.\u001b[0m\u001b[0mraise_from\u001b[0m\u001b[0;34m(\u001b[0m\u001b[0mcore\u001b[0m\u001b[0;34m.\u001b[0m\u001b[0m_status_to_exception\u001b[0m\u001b[0;34m(\u001b[0m\u001b[0me\u001b[0m\u001b[0;34m.\u001b[0m\u001b[0mcode\u001b[0m\u001b[0;34m,\u001b[0m \u001b[0me\u001b[0m\u001b[0;34m.\u001b[0m\u001b[0mmessage\u001b[0m\u001b[0;34m)\u001b[0m\u001b[0;34m,\u001b[0m \u001b[0;32mNone\u001b[0m\u001b[0;34m)\u001b[0m  \u001b[0;31m# pylint: disable=protected-access\u001b[0m\u001b[0;34m\u001b[0m\u001b[0;34m\u001b[0m\u001b[0m\n",
            "\u001b[0;31mKeyboardInterrupt\u001b[0m: "
          ]
        }
      ]
    },
    {
      "cell_type": "code",
      "metadata": {
        "id": "Psabpd2Mq8-h"
      },
      "source": [
        "preds = autoencoder.predict(test_Noise)"
      ],
      "execution_count": 76,
      "outputs": []
    },
    {
      "cell_type": "code",
      "metadata": {
        "colab": {
          "base_uri": "https://localhost:8080/"
        },
        "id": "wWeU4oNkBcU6",
        "outputId": "3e5f9a58-3f48-41fb-de6b-cd6423b08061"
      },
      "source": [
        "print(\"OLA\")"
      ],
      "execution_count": 46,
      "outputs": [
        {
          "output_type": "stream",
          "text": [
            "OLA\n"
          ],
          "name": "stdout"
        }
      ]
    },
    {
      "cell_type": "code",
      "metadata": {
        "id": "3wALt49EDTqM"
      },
      "source": [
        " decoded_img = np.squeeze(autoencoder.decoder(autoencoder.encoder(np.expand_dims(test_Noise[0], axis=0)).numpy()))"
      ],
      "execution_count": 51,
      "outputs": []
    },
    {
      "cell_type": "code",
      "metadata": {
        "id": "kydnU-Z6F-7Q"
      },
      "source": [
        "c = 0\r\n",
        "for i in preds:\r\n",
        "    c+=1\r\n",
        "    cv2.imwrite(\"/content/decoded/\"+str(c)+\".png\", (i*255))"
      ],
      "execution_count": 85,
      "outputs": []
    },
    {
      "cell_type": "code",
      "metadata": {
        "id": "fksLaBQFGODk"
      },
      "source": [
        "!cp -r /content/decoded/ /content/drive/MyDrive/"
      ],
      "execution_count": 86,
      "outputs": []
    },
    {
      "cell_type": "code",
      "metadata": {
        "id": "YuDDL04JWPZd"
      },
      "source": [
        ""
      ],
      "execution_count": null,
      "outputs": []
    }
  ]
}
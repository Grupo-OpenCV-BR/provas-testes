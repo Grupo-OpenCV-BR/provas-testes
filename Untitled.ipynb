{
 "cells": [
  {
   "cell_type": "markdown",
   "metadata": {},
   "source": [
    "# Fraud Detection Description\n",
    "\n",
    "A coleção contém amostras de assinaturas offline. As imagens foram digitalizadas com resolução de 600dpi e cortadas com uma região de imagem controlada onde a verificação da assinatura é feita.\n",
    "\n",
    "O conjunto de dados de treinamento contém 209 imagens. As assinaturas são compostas por 9 assinaturas de referência do mesmo escritor “A” e 200 assinaturas questionadas. As 200 assinaturas questionadas compreendem 76 assinaturas genuínas escritas pelo escritor de referência em seu estilo de assinatura normal; 104 assinaturas simuladas / falsificadas (escritas por 27 falsificadores copiando à mão as características da assinatura do escritor de referência); 20 assinaturas disfarçadas escritas pelo escritor de referência. O processo de disfarce consiste em uma tentativa do redator de referência de alterar propositalmente sua assinatura para evitar ser identificado ou negar a redação da assinatura. O processo de simulação / falsificação consiste na tentativa de um escritor de imitar as características da assinatura de referência de um autor autêntico genuíno.\n",
    "\n",
    "O conjunto de dados de teste contém 125 assinaturas. As assinaturas são compostas por 25 assinaturas de referência do mesmo escritor “B” e 100 assinaturas questionadas. As 100 assinaturas questionadas incluem 3 assinaturas genuínas escritas pelo autor de referência em seu estilo de assinatura normal; 90 assinaturas simuladas (escritas por 34 falsificadores copiando à mão livre as características da assinatura do escritor de referência); 7 assinaturas disfarçadas escritas pelo escritor de referência. O conjunto de dados de teste NÃO é fornecido ao candidato, mas apenas usado para a etapa de avaliação (pelo árbitro). Portanto, seja criativo para manipular os dados providade da melhor forma possível.\n",
    "\n",
    "Todas as escritas foram feitas com a mesma marca de caneta esferográfica e com a mesma marca de papel.\n",
    "\n",
    "# Training Set\n",
    "\n",
    "## Folder Structure and File Naming\n",
    "\n",
    "The signatures of the training set are arranged according to the following folder structure:\n",
    "\n",
    "- **Disguised:** Contains all the disguised signatures of specimen author ‘A’\n",
    "- **Genuine:** Contains all the genuine signatures of specimen author ‘A’\n",
    "- **Reference:** Contains the reference signatures of specimen author ‘A’ which can be used for training the classifiers for author ‘A’.\n",
    "- **Simulated:** Contains all the skilled forgeries for specimen author ‘A’\n",
    "\n",
    "Observe que a convenção de nomenclatura também revela o tipo de assinatura do conjunto de treinamento. Por exemplo, D023: assinaturas disfarçadas, G003: uma assinatura genuína, S001: uma assinatura forjada / simulada e, da mesma forma, R001: uma assinatura de referência. As assinaturas do conjunto de teste são organizadas de acordo com a seguinte estrutura de pasta:\n",
    "\n",
    "- **Reference:** Contains the reference signatures of another specimen author ‘B’. These signatures are used to train the classifier for verifying authorship of the specimen author ‘B’.\n",
    "- **Questioned:** Contains all the signatures for which the task is to verify authorship of the specimen author ‘B’.\n",
    "\n",
    "# Objective\n",
    "\n",
    "\n",
    "O candidato deve fornecer um método de classificação que indique corretamente se uma assinatura pode ser um tipo fraudulento / genuíno / disfarçado.\n",
    "\n",
    "# Important details\n",
    "\n",
    "- O candidato nos fornecerá o modelo compilado (por exemplo, um arquivo H5 ou similar) que pode ser carregado e usado para previsão. Qualquer instrução sobre como carregar / usar o modelo fornecido é importante para que nosso revisor possa fazer uma comparação real.\n",
    "- Estamos cientes de que esta tarefa é muito difícil devido à falta de dados. Mas esta é uma situação desafiadora em que avaliamos a inventividade e flexibilidade do candidato para obter respostas plausíveis.\n",
    "- O processo de treinamento é recomendado para ser usado apenas na pasta Referência, devido aos cenários de casos reais que não fornecem grandes conjuntos de assinaturas reais de um indivíduo. Embora este seja o procedimento preferencial a ser feito, somos flexíveis para receber outras percepções que o candidato possa ter.\n",
    "- A tendência de pensamento utilizada para construir o modelo de detecção de fraudes também será uma informação importante para os revisores. Portanto, deixe o código e as ideias por trás dele muito claros (por exemplo, em comentários ou mesmo em arquivos de documentação)\n",
    "- Por favor, defina a saída do seu modelo para mostrar o seguinte padrão (como caracteres de string): F -> forjado, D -> digitado, G -> genuíno\n"
   ]
  },
  {
   "cell_type": "markdown",
   "metadata": {},
   "source": []
  },
  {
   "cell_type": "markdown",
   "metadata": {},
   "source": [
    "\n",
    "# Document Cleanup Descrição\n",
    "\n",
    "Muitos aplicativos de processamento de imagem usam dados textuais digitalizados. No entanto, a presença de qualquer tipo de ruído pode criar dificuldades no pós-processamento das informações, como na detecção de OCR. Para melhorar a manipulação das informações nesses dados, é necessária uma etapa anterior de processamento da imagem.\n",
    "\n",
    "À luz dessa ideia, um conjunto de parágrafos de texto contendo a linguagem simples do inglês foi coletado. Diferentes estilos de fonte, tamanho e nível de ruído de fundo foram organizados para simular uma variedade de cenários.\n",
    "\n",
    "# Objetivo\n",
    "\n",
    "O objetivo deste teste é avaliar os possíveis métodos de processamento de imagem que podem corrigir as amostras de texto. Observe que os exemplos têm um tipo diferente de ruído de fundo e apresentam um conjunto de fontes de texto. Portanto, o candidato deve fornecer um algoritmo flexível que possa detectar corretamente o que são caracteres de texto e ruído de fundo, oferecendo uma versão limpa de cada parágrafo do texto como resultado.\n",
    "\n",
    "# Detalhes importantes\n",
    "\n",
    "- Como padrão comum, o texto deve ser representado por pixels PRETOS e o fundo por pixels BRANCOS. Portanto, a imagem de saída DEVE estar em formato binário (ou seja, valores de pixel `0` para texto e valores de pixel` 255` para fundo)\n",
    "- Este teste não requer o uso de um algoritmo de processamento de imagem definido. O candidato é livre para escolher qualquer tipo de canal de processamento de imagem para chegar à melhor resposta.\n",
    "- O candidato receberá apenas os dados com ruído, visto que dados limpos raramente são fornecidos em cenários reais e nenhuma anotação é fornecida. Assim, a criatividade é necessária se o candidato optar por usar algoritmos de aprendizagem supervisionada.\n",
    "- O resultado correto perfeito é alcançado com: 1) fundo branco, 2) caracteres de texto em preto, 3) alinhamento horizontal do texto, 4) bloco de texto centralizado na imagem e 5) fonte de texto reto (formatação não itálica).\n",
    "- Não altere o nome do arquivo ao aplicar seus métodos de processamento de imagem. O nome do arquivo é importante para fins de comparação de dados.\n",
    "- O arquivo de imagem de saída só será aceito nos seguintes formatos: `.png`,` .tif`, `.jpg`"
   ]
  },
  {
   "cell_type": "code",
   "execution_count": null,
   "metadata": {},
   "outputs": [],
   "source": []
  },
  {
   "cell_type": "code",
   "execution_count": null,
   "metadata": {},
   "outputs": [],
   "source": []
  },
  {
   "cell_type": "code",
   "execution_count": null,
   "metadata": {},
   "outputs": [],
   "source": []
  },
  {
   "cell_type": "markdown",
   "metadata": {},
   "source": [
    "\n",
    "# WALLY Descrição\n",
    "\n",
    "No fundo do mar? No pico da montanha mais alta? Onde pode estar aquele tal Wally? Existe uma maneira de determinar automaticamente onde está Wally?\n",
    "\n",
    "Uma série de imagens com fundos aleatórios é fornecida. Em cada imagem, a mesma imagem de Wally foi colocada em uma posição aleatória, com rotação aleatória e uma pequena transformação de perspectiva.\n",
    "Os seguintes itens são fornecidos como conjunto de dados `TrainSet`:\n",
    "\n",
    "- Uma coleção de imagens aleatórias com a foto de Wally em uma posição aleatória\n",
    "- Os arquivos json de anotação (padrão LabelMe), determinando onde a imagem de Wally está em cada uma das imagens do trem\n",
    "\n",
    "Os seguintes itens são fornecidos como conjunto de dados `TestSet`:\n",
    "\n",
    "- Uma coleção de imagens aleatórias com a foto de Wally em uma posição aleatória\n",
    "\n",
    "Os seguintes itens são fornecidos como `ReferenceData`:\n",
    "\n",
    "- A foto original de Wally\n",
    "- Um arquivo csv contendo o centróide da imagem de Wally em cada uma das imagens do trem\n",
    "\n",
    "# Objetivo\n",
    "\n",
    "O objetivo deste teste é encontrar uma maneira de detectar automaticamente a imagem de Wally em cada uma das imagens `TestSet`, dando o centróide da imagem em cada imagem como a resposta final.\n",
    "\n",
    "# Detalhes importantes\n",
    "\n",
    "- Wally não gosta de ser encontrado. Quando questionado sobre a participação em nosso teste, ele pediu para revisar pessoalmente os dados primeiro. Nós nos perguntamos se ele adulterou os dados para atrapalhar nossas soluções ...\n",
    "- O conjunto de dados foi dividido para ter dados invisíveis para análise de teste. Pegamos 20% do total de dados (aleatoriamente)\n",
    "- As anotações estão no padrão LabelMe. Você pode encontrar o software [aqui] (https://github.com/wkentaro/labelme)\n",
    "- O arquivo CSV contém o nome do arquivo na primeira coluna, a posição `x` do centróide na segunda coluna e a posição` y` do centróide na terceira coluna\n",
    "- Este teste não requer o uso de um algoritmo de processamento de imagem definido. O candidato é livre para escolher qualquer tipo de canal de processamento de imagem para chegar à melhor resposta\n",
    "- Dependendo da abordagem escolhida, nem todos os arquivos fornecidos podem ser necessários. Oferecemos recursos diferentes para que abordagens diferentes sejam possíveis, mas o candidato deve se sentir à vontade para usar ou descartar qualquer um dos recursos fornecidos\n",
    "- Replique o formato dos dados para envio, ou seja, a resposta deve ser fornecida como um arquivo CSV com o nome do arquivo na primeira coluna, a coordenada `x` para o centroide da imagem na segunda coluna e a coordenada` y` para o centroide da imagem na terceira coluna, semelhante ao que é fornecido no conjunto de dados `TrainSet`"
   ]
  },
  {
   "cell_type": "code",
   "execution_count": null,
   "metadata": {},
   "outputs": [],
   "source": []
  }
 ],
 "metadata": {
  "kernelspec": {
   "display_name": "Python 3",
   "language": "python",
   "name": "python3"
  },
  "language_info": {
   "codemirror_mode": {
    "name": "ipython",
    "version": 3
   },
   "file_extension": ".py",
   "mimetype": "text/x-python",
   "name": "python",
   "nbconvert_exporter": "python",
   "pygments_lexer": "ipython3",
   "version": "3.7.4"
  }
 },
 "nbformat": 4,
 "nbformat_minor": 4
}

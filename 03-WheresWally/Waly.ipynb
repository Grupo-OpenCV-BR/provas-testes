{
 "cells": [
  {
   "cell_type": "markdown",
   "metadata": {},
   "source": [
    "# Metodologia\n",
    "\n",
    "Partí da premissa de detecção de objetos e pela BBOX posso pegar o centroID do objeto detectado.\n",
    "<h5>Arquitetura</h5>\n",
    "Por questões de gerenciamento de tempo acabei optando por utilizar a Faster-RCNN(640x640, models-zoo TPU-8) da tensorflow Object Detection API, poderia também utilizar a tiny yolo.\n",
    "\n",
    "<h5>Modelo</h5>\n",
    "<p>Anexos 3 notebooks utilizados no google colab e 2 Arquivos .py</p>\n",
    "<p>1-Geração de Records</p>\n",
    "<p>2-Treinamento do Modelo</p>\n",
    "<p>3-Restauração do modelo em .PB e Inferência nas imagens de teste</p>\n",
    "\n",
    "<h5>Tentativas</h5>\n",
    "<p>-Tentei utilizar o matchtemplate do openCV mas não fui bem sucedido, quanto mais padronizado for o objeto em outras imagens mais fácil é a deteclção via matchtemplate.</p>\n",
    "    \n",
    "<h5>Pré-Processamento</h5>\n",
    "<p>-Não foi nescessário utilizar nenhuma técnica de préprocessamento.</p>\n",
    "<p>-Check Shape __ OpenCV e o Labelme pode ter uma certa diferença no shape da imagem devido a orientação da anotação e por padrão nos records gerados utilizei o shape do labelme</p>\n",
    "<p>-Apenas uma breve olhada no dataset e tinha umas 2 ou 3 imagens com a anotação errada e uma que não possuia anotação.</p>"
   ]
  },
  {
   "cell_type": "code",
   "execution_count": 3,
   "metadata": {},
   "outputs": [],
   "source": [
    "import cv2\n",
    "import numpy as np\n",
    "import json\n",
    "import pandas as pd"
   ]
  },
  {
   "cell_type": "code",
   "execution_count": 4,
   "metadata": {},
   "outputs": [],
   "source": [
    "file = json.loads(open(\"./TrainingSet/wally_001.json\").read())"
   ]
  },
  {
   "cell_type": "code",
   "execution_count": 5,
   "metadata": {},
   "outputs": [
    {
     "name": "stdout",
     "output_type": "stream",
     "text": [
      "dict_keys(['version', 'flags', 'lineColor', 'fillColor', 'imagePath', 'imageData', 'imageHeight', 'imageWidth', 'shapes'])\n"
     ]
    }
   ],
   "source": [
    "print(file.keys())"
   ]
  },
  {
   "cell_type": "code",
   "execution_count": 6,
   "metadata": {},
   "outputs": [
    {
     "name": "stdout",
     "output_type": "stream",
     "text": [
      "[[750, 260], [533, 567], [697, 680], [916, 388]]\n"
     ]
    }
   ],
   "source": [
    "print(file[\"shapes\"][0][\"points\"])"
   ]
  },
  {
   "cell_type": "code",
   "execution_count": 7,
   "metadata": {},
   "outputs": [
    {
     "name": "stdout",
     "output_type": "stream",
     "text": [
      "790\n",
      "1000\n"
     ]
    }
   ],
   "source": [
    "print(file[\"imageHeight\"])\n",
    "print(file[\"imageWidth\"])"
   ]
  },
  {
   "cell_type": "code",
   "execution_count": 8,
   "metadata": {},
   "outputs": [],
   "source": [
    "df = pd.read_csv(\"./ReferenceData/wheres_wally_train.csv\")"
   ]
  },
  {
   "cell_type": "code",
   "execution_count": 35,
   "metadata": {},
   "outputs": [
    {
     "data": {
      "text/html": [
       "<div>\n",
       "<style scoped>\n",
       "    .dataframe tbody tr th:only-of-type {\n",
       "        vertical-align: middle;\n",
       "    }\n",
       "\n",
       "    .dataframe tbody tr th {\n",
       "        vertical-align: top;\n",
       "    }\n",
       "\n",
       "    .dataframe thead th {\n",
       "        text-align: right;\n",
       "    }\n",
       "</style>\n",
       "<table border=\"1\" class=\"dataframe\">\n",
       "  <thead>\n",
       "    <tr style=\"text-align: right;\">\n",
       "      <th></th>\n",
       "      <th>wally_000.jpg</th>\n",
       "      <th>555</th>\n",
       "      <th>574</th>\n",
       "    </tr>\n",
       "  </thead>\n",
       "  <tbody>\n",
       "    <tr>\n",
       "      <th>0</th>\n",
       "      <td>wally_001.jpg</td>\n",
       "      <td>724</td>\n",
       "      <td>473</td>\n",
       "    </tr>\n",
       "    <tr>\n",
       "      <th>1</th>\n",
       "      <td>wally_002.jpg</td>\n",
       "      <td>143</td>\n",
       "      <td>913</td>\n",
       "    </tr>\n",
       "    <tr>\n",
       "      <th>2</th>\n",
       "      <td>wally_003.jpg</td>\n",
       "      <td>465</td>\n",
       "      <td>912</td>\n",
       "    </tr>\n",
       "    <tr>\n",
       "      <th>3</th>\n",
       "      <td>wally_006.jpg</td>\n",
       "      <td>420</td>\n",
       "      <td>548</td>\n",
       "    </tr>\n",
       "    <tr>\n",
       "      <th>4</th>\n",
       "      <td>wally_007.jpg</td>\n",
       "      <td>78</td>\n",
       "      <td>564</td>\n",
       "    </tr>\n",
       "    <tr>\n",
       "      <th>...</th>\n",
       "      <td>...</td>\n",
       "      <td>...</td>\n",
       "      <td>...</td>\n",
       "    </tr>\n",
       "    <tr>\n",
       "      <th>114</th>\n",
       "      <td>wally_143.jpg</td>\n",
       "      <td>192</td>\n",
       "      <td>177</td>\n",
       "    </tr>\n",
       "    <tr>\n",
       "      <th>115</th>\n",
       "      <td>wally_144.jpg</td>\n",
       "      <td>164</td>\n",
       "      <td>98</td>\n",
       "    </tr>\n",
       "    <tr>\n",
       "      <th>116</th>\n",
       "      <td>wally_146.jpg</td>\n",
       "      <td>485</td>\n",
       "      <td>339</td>\n",
       "    </tr>\n",
       "    <tr>\n",
       "      <th>117</th>\n",
       "      <td>wally_147.jpg</td>\n",
       "      <td>524</td>\n",
       "      <td>785</td>\n",
       "    </tr>\n",
       "    <tr>\n",
       "      <th>118</th>\n",
       "      <td>wally_148.jpg</td>\n",
       "      <td>505</td>\n",
       "      <td>263</td>\n",
       "    </tr>\n",
       "  </tbody>\n",
       "</table>\n",
       "<p>119 rows × 3 columns</p>\n",
       "</div>"
      ],
      "text/plain": [
       "     wally_000.jpg  555  574\n",
       "0    wally_001.jpg  724  473\n",
       "1    wally_002.jpg  143  913\n",
       "2    wally_003.jpg  465  912\n",
       "3    wally_006.jpg  420  548\n",
       "4    wally_007.jpg   78  564\n",
       "..             ...  ...  ...\n",
       "114  wally_143.jpg  192  177\n",
       "115  wally_144.jpg  164   98\n",
       "116  wally_146.jpg  485  339\n",
       "117  wally_147.jpg  524  785\n",
       "118  wally_148.jpg  505  263\n",
       "\n",
       "[119 rows x 3 columns]"
      ]
     },
     "execution_count": 35,
     "metadata": {},
     "output_type": "execute_result"
    }
   ],
   "source": [
    "df"
   ]
  },
  {
   "cell_type": "code",
   "execution_count": 12,
   "metadata": {},
   "outputs": [],
   "source": [
    "import glob"
   ]
  },
  {
   "cell_type": "code",
   "execution_count": 26,
   "metadata": {},
   "outputs": [
    {
     "name": "stdout",
     "output_type": "stream",
     "text": [
      "120\n"
     ]
    }
   ],
   "source": [
    "jsons = glob.glob(\"./TrainingSet/*.json\")\n",
    "print(len(jsons))"
   ]
  },
  {
   "cell_type": "code",
   "execution_count": 27,
   "metadata": {},
   "outputs": [
    {
     "name": "stdout",
     "output_type": "stream",
     "text": [
      "120\n"
     ]
    }
   ],
   "source": [
    "imagens = glob.glob(\"./TrainingSet/*.jpg\")\n",
    "print(len(imagens))"
   ]
  },
  {
   "cell_type": "code",
   "execution_count": 28,
   "metadata": {},
   "outputs": [],
   "source": [
    "for i in imagens:\n",
    "    name = i.split(\"jpg\")[0]+\"json\"\n",
    "    if name not in jsons:\n",
    "        print(i)"
   ]
  },
  {
   "cell_type": "code",
   "execution_count": 1,
   "metadata": {},
   "outputs": [],
   "source": [
    "#ajuste no CSV dos resultados\n",
    "import pandas as pd"
   ]
  },
  {
   "cell_type": "code",
   "execution_count": 4,
   "metadata": {},
   "outputs": [],
   "source": [
    "df = pd.read_csv(\"./Results/wally.csv\")"
   ]
  },
  {
   "cell_type": "code",
   "execution_count": 6,
   "metadata": {},
   "outputs": [
    {
     "data": {
      "text/plain": [
       "Index(['Unnamed: 0', 'Image', 'Points'], dtype='object')"
      ]
     },
     "execution_count": 6,
     "metadata": {},
     "output_type": "execute_result"
    }
   ],
   "source": [
    "df.columns"
   ]
  },
  {
   "cell_type": "code",
   "execution_count": 7,
   "metadata": {},
   "outputs": [],
   "source": [
    "del df['Unnamed: 0']"
   ]
  },
  {
   "cell_type": "code",
   "execution_count": 15,
   "metadata": {},
   "outputs": [
    {
     "data": {
      "text/plain": [
       "0     dict_values([(645, 333)])\n",
       "1     dict_values([(361, 346)])\n",
       "2     dict_values([(124, 187)])\n",
       "3     dict_values([(281, 399)])\n",
       "4     dict_values([(318, 153)])\n",
       "5     dict_values([(408, 452)])\n",
       "6     dict_values([(493, 244)])\n",
       "7      dict_values([(150, 85)])\n",
       "8     dict_values([(505, 215)])\n",
       "9     dict_values([(297, 394)])\n",
       "10    dict_values([(101, 818)])\n",
       "11    dict_values([(101, 173)])\n",
       "12    dict_values([(536, 485)])\n",
       "13    dict_values([(734, 167)])\n",
       "14    dict_values([(660, 466)])\n",
       "15    dict_values([(597, 233)])\n",
       "16    dict_values([(385, 273)])\n",
       "17    dict_values([(481, 310)])\n",
       "18    dict_values([(230, 370)])\n",
       "19    dict_values([(763, 710)])\n",
       "20    dict_values([(159, 397)])\n",
       "21    dict_values([(305, 136)])\n",
       "22    dict_values([(394, 474)])\n",
       "23    dict_values([(814, 689)])\n",
       "24    dict_values([(815, 857)])\n",
       "25    dict_values([(101, 537)])\n",
       "26    dict_values([(616, 504)])\n",
       "27    dict_values([(738, 246)])\n",
       "28    dict_values([(418, 789)])\n",
       "29    dict_values([(765, 599)])\n",
       "Name: Points, dtype: object"
      ]
     },
     "execution_count": 15,
     "metadata": {},
     "output_type": "execute_result"
    }
   ],
   "source": [
    "df[\"Points\"]"
   ]
  },
  {
   "cell_type": "code",
   "execution_count": null,
   "metadata": {},
   "outputs": [],
   "source": []
  }
 ],
 "metadata": {
  "kernelspec": {
   "display_name": "Python 3",
   "language": "python",
   "name": "python3"
  },
  "language_info": {
   "codemirror_mode": {
    "name": "ipython",
    "version": 3
   },
   "file_extension": ".py",
   "mimetype": "text/x-python",
   "name": "python",
   "nbconvert_exporter": "python",
   "pygments_lexer": "ipython3",
   "version": "3.7.4"
  }
 },
 "nbformat": 4,
 "nbformat_minor": 4
}
